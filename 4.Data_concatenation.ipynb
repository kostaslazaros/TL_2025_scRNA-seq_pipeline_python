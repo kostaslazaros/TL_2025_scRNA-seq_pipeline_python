{
 "cells": [
  {
   "cell_type": "code",
   "execution_count": 1,
   "id": "f6887de2",
   "metadata": {},
   "outputs": [],
   "source": [
    "import scanpy as sc\n",
    "import hdf5plugin\n",
    "import anndata\n",
    "import matplotlib.pyplot as plt\n",
    "from matplotlib.pyplot import rc_context\n",
    "import numpy as np\n",
    "import pandas as pd\n",
    "import os\n",
    "\n",
    "import warnings\n",
    "warnings.filterwarnings(\"ignore\")"
   ]
  },
  {
   "cell_type": "code",
   "execution_count": 2,
   "id": "6134ddb5",
   "metadata": {},
   "outputs": [],
   "source": [
    "VERSION = \"1\""
   ]
  },
  {
   "cell_type": "code",
   "execution_count": 3,
   "id": "3d05040c",
   "metadata": {},
   "outputs": [],
   "source": [
    "def get_h5ads(directory=\"./data/h5ad_filt\"):\n",
    "    h5ad_name_lst = []\n",
    "    for file in os.listdir(directory):\n",
    "        if file.endswith(\".h5ad\"):\n",
    "            # Construct the full file path\n",
    "            file_path = os.path.join(directory, file)\n",
    "            # Print the file name\n",
    "            h5ad_name_lst.append(file)\n",
    "    return h5ad_name_lst"
   ]
  },
  {
   "cell_type": "markdown",
   "id": "427ee76a",
   "metadata": {},
   "source": [
    "- Δημιουργούμε μια λίστα με όλα τα επεξεργασμένα h5ad αρχεία\n",
    "\n",
    "- Τα h5ads περιέχουν anndata objects"
   ]
  },
  {
   "attachments": {
    "anndata.png": {
     "image/png": "[encoded data removed]"
    }
   },
   "cell_type": "markdown",
   "id": "187c67c3",
   "metadata": {},
   "source": [
    "![anndata.png](attachment:anndata.png)"
   ]
  },
  {
   "cell_type": "code",
   "execution_count": 4,
   "id": "44ff20f0",
   "metadata": {},
   "outputs": [
    {
     "data": {
      "text/plain": [
       "['filtered_GSM4483339.h5ad',\n",
       " 'filtered_GSM4483340.h5ad',\n",
       " 'filtered_GSM4483366.h5ad',\n",
       " 'filtered_GSM4483367.h5ad']"
      ]
     },
     "execution_count": 4,
     "metadata": {},
     "output_type": "execute_result"
    }
   ],
   "source": [
    "adata_name_lst = get_h5ads()\n",
    "adata_name_lst"
   ]
  },
  {
   "cell_type": "code",
   "execution_count": 5,
   "id": "125e1149",
   "metadata": {},
   "outputs": [],
   "source": [
    "H5ADS = [f\"./data/h5ad_filt/{i}\" for i in adata_name_lst]\n",
    "\n",
    "MERGED_NAME = \"alzheimer_data_concat\"\n",
    "H5AD_CONCAT = f\"./data/h5ad_concat/{MERGED_NAME}_v{VERSION}.h5ad\""
   ]
  },
  {
   "cell_type": "code",
   "execution_count": 6,
   "id": "77dfa0a8",
   "metadata": {},
   "outputs": [
    {
     "data": {
      "text/plain": [
       "['./data/h5ad_filt/filtered_GSM4483339.h5ad',\n",
       " './data/h5ad_filt/filtered_GSM4483340.h5ad',\n",
       " './data/h5ad_filt/filtered_GSM4483366.h5ad',\n",
       " './data/h5ad_filt/filtered_GSM4483367.h5ad']"
      ]
     },
     "execution_count": 6,
     "metadata": {},
     "output_type": "execute_result"
    }
   ],
   "source": [
    "H5ADS"
   ]
  },
  {
   "cell_type": "code",
   "execution_count": 7,
   "id": "39ca5ce0",
   "metadata": {},
   "outputs": [
    {
     "data": {
      "text/plain": [
       "[AnnData object with n_obs × n_vars = 4732 × 24337\n",
       "     obs: 'condition', 'n_genes', 'prc_mt', 'prc_rb', 'n_counts'\n",
       "     var: 'gene_ids', 'feature_types', 'n_cells',\n",
       " AnnData object with n_obs × n_vars = 5074 × 23943\n",
       "     obs: 'condition', 'n_genes', 'prc_mt', 'prc_rb', 'n_counts'\n",
       "     var: 'gene_ids', 'feature_types', 'n_cells',\n",
       " AnnData object with n_obs × n_vars = 15157 × 26297\n",
       "     obs: 'condition', 'n_genes', 'prc_mt', 'prc_rb', 'n_counts'\n",
       "     var: 'gene_ids', 'feature_types', 'n_cells',\n",
       " AnnData object with n_obs × n_vars = 12417 × 26326\n",
       "     obs: 'condition', 'n_genes', 'prc_mt', 'prc_rb', 'n_counts'\n",
       "     var: 'gene_ids', 'feature_types', 'n_cells']"
      ]
     },
     "execution_count": 7,
     "metadata": {},
     "output_type": "execute_result"
    }
   ],
   "source": [
    "adatas = [sc.read_h5ad(i) for i in H5ADS]\n",
    "adatas"
   ]
  },
  {
   "cell_type": "code",
   "execution_count": 8,
   "id": "0fb49216",
   "metadata": {},
   "outputs": [
    {
     "data": {
      "text/plain": [
       "AnnData object with n_obs × n_vars = 37380 × 22915\n",
       "    obs: 'condition', 'n_genes', 'prc_mt', 'prc_rb', 'n_counts', 'batch'\n",
       "    var: 'gene_ids', 'feature_types', 'n_cells-0', 'n_cells-1', 'n_cells-2', 'n_cells-3'"
      ]
     },
     "execution_count": 8,
     "metadata": {},
     "output_type": "execute_result"
    }
   ],
   "source": [
    "adata_merged = anndata.AnnData.concatenate(*adatas, batch_key='batch', join=\"inner\")\n",
    "adata_merged"
   ]
  },
  {
   "cell_type": "code",
   "execution_count": 9,
   "id": "0348cc31",
   "metadata": {},
   "outputs": [
    {
     "data": {
      "text/plain": [
       "AnnData object with n_obs × n_vars = 37380 × 22915\n",
       "    obs: 'condition', 'n_genes', 'prc_mt', 'prc_rb', 'n_counts', 'batch'\n",
       "    var: 'gene_ids'"
      ]
     },
     "execution_count": 9,
     "metadata": {},
     "output_type": "execute_result"
    }
   ],
   "source": [
    "adata_merged.var = adata_merged.var[['gene_ids']]\n",
    "adata_merged"
   ]
  },
  {
   "cell_type": "code",
   "execution_count": 10,
   "id": "1f678902",
   "metadata": {},
   "outputs": [
    {
     "data": {
      "text/html": [
       "<div>\n",
       "<style scoped>\n",
       "    .dataframe tbody tr th:only-of-type {\n",
       "        vertical-align: middle;\n",
       "    }\n",
       "\n",
       "    .dataframe tbody tr th {\n",
       "        vertical-align: top;\n",
       "    }\n",
       "\n",
       "    .dataframe thead th {\n",
       "        text-align: right;\n",
       "    }\n",
       "</style>\n",
       "<table border=\"1\" class=\"dataframe\">\n",
       "  <thead>\n",
       "    <tr style=\"text-align: right;\">\n",
       "      <th></th>\n",
       "      <th>condition</th>\n",
       "      <th>n_genes</th>\n",
       "      <th>prc_mt</th>\n",
       "      <th>prc_rb</th>\n",
       "      <th>n_counts</th>\n",
       "      <th>batch</th>\n",
       "    </tr>\n",
       "  </thead>\n",
       "  <tbody>\n",
       "    <tr>\n",
       "      <th>AAACCCACACGGCACT-1-0</th>\n",
       "      <td>control</td>\n",
       "      <td>1275</td>\n",
       "      <td>0.801509</td>\n",
       "      <td>0.047148</td>\n",
       "      <td>2121.0</td>\n",
       "      <td>0</td>\n",
       "    </tr>\n",
       "    <tr>\n",
       "      <th>AAACCCACAGGTGTTT-1-0</th>\n",
       "      <td>control</td>\n",
       "      <td>1260</td>\n",
       "      <td>0.616114</td>\n",
       "      <td>0.142180</td>\n",
       "      <td>2110.0</td>\n",
       "      <td>0</td>\n",
       "    </tr>\n",
       "    <tr>\n",
       "      <th>AAACCCACATGCCATA-1-0</th>\n",
       "      <td>control</td>\n",
       "      <td>2156</td>\n",
       "      <td>0.819491</td>\n",
       "      <td>0.155039</td>\n",
       "      <td>4515.0</td>\n",
       "      <td>0</td>\n",
       "    </tr>\n",
       "    <tr>\n",
       "      <th>AAACCCAGTCTTCGAA-1-0</th>\n",
       "      <td>control</td>\n",
       "      <td>1216</td>\n",
       "      <td>0.047461</td>\n",
       "      <td>0.047461</td>\n",
       "      <td>2107.0</td>\n",
       "      <td>0</td>\n",
       "    </tr>\n",
       "    <tr>\n",
       "      <th>AAACCCAGTGTGCTTA-1-0</th>\n",
       "      <td>control</td>\n",
       "      <td>4108</td>\n",
       "      <td>1.931158</td>\n",
       "      <td>0.169870</td>\n",
       "      <td>11185.0</td>\n",
       "      <td>0</td>\n",
       "    </tr>\n",
       "    <tr>\n",
       "      <th>...</th>\n",
       "      <td>...</td>\n",
       "      <td>...</td>\n",
       "      <td>...</td>\n",
       "      <td>...</td>\n",
       "      <td>...</td>\n",
       "      <td>...</td>\n",
       "    </tr>\n",
       "    <tr>\n",
       "      <th>TTTGTTGGTGTCACAT-1-3</th>\n",
       "      <td>disease</td>\n",
       "      <td>1024</td>\n",
       "      <td>0.282486</td>\n",
       "      <td>0.211864</td>\n",
       "      <td>1416.0</td>\n",
       "      <td>3</td>\n",
       "    </tr>\n",
       "    <tr>\n",
       "      <th>TTTGTTGTCATGAGTC-1-3</th>\n",
       "      <td>disease</td>\n",
       "      <td>1411</td>\n",
       "      <td>1.278096</td>\n",
       "      <td>0.308506</td>\n",
       "      <td>2269.0</td>\n",
       "      <td>3</td>\n",
       "    </tr>\n",
       "    <tr>\n",
       "      <th>TTTGTTGTCCACGTGG-1-3</th>\n",
       "      <td>disease</td>\n",
       "      <td>3958</td>\n",
       "      <td>0.000000</td>\n",
       "      <td>0.205534</td>\n",
       "      <td>12650.0</td>\n",
       "      <td>3</td>\n",
       "    </tr>\n",
       "    <tr>\n",
       "      <th>TTTGTTGTCGTTTACT-1-3</th>\n",
       "      <td>disease</td>\n",
       "      <td>1959</td>\n",
       "      <td>0.026001</td>\n",
       "      <td>0.208008</td>\n",
       "      <td>3846.0</td>\n",
       "      <td>3</td>\n",
       "    </tr>\n",
       "    <tr>\n",
       "      <th>TTTGTTGTCTACCACC-1-3</th>\n",
       "      <td>disease</td>\n",
       "      <td>1813</td>\n",
       "      <td>0.093023</td>\n",
       "      <td>0.031008</td>\n",
       "      <td>3225.0</td>\n",
       "      <td>3</td>\n",
       "    </tr>\n",
       "  </tbody>\n",
       "</table>\n",
       "<p>37380 rows × 6 columns</p>\n",
       "</div>"
      ],
      "text/plain": [
       "                     condition  n_genes    prc_mt    prc_rb  n_counts batch\n",
       "AAACCCACACGGCACT-1-0   control     1275  0.801509  0.047148    2121.0     0\n",
       "AAACCCACAGGTGTTT-1-0   control     1260  0.616114  0.142180    2110.0     0\n",
       "AAACCCACATGCCATA-1-0   control     2156  0.819491  0.155039    4515.0     0\n",
       "AAACCCAGTCTTCGAA-1-0   control     1216  0.047461  0.047461    2107.0     0\n",
       "AAACCCAGTGTGCTTA-1-0   control     4108  1.931158  0.169870   11185.0     0\n",
       "...                        ...      ...       ...       ...       ...   ...\n",
       "TTTGTTGGTGTCACAT-1-3   disease     1024  0.282486  0.211864    1416.0     3\n",
       "TTTGTTGTCATGAGTC-1-3   disease     1411  1.278096  0.308506    2269.0     3\n",
       "TTTGTTGTCCACGTGG-1-3   disease     3958  0.000000  0.205534   12650.0     3\n",
       "TTTGTTGTCGTTTACT-1-3   disease     1959  0.026001  0.208008    3846.0     3\n",
       "TTTGTTGTCTACCACC-1-3   disease     1813  0.093023  0.031008    3225.0     3\n",
       "\n",
       "[37380 rows x 6 columns]"
      ]
     },
     "execution_count": 10,
     "metadata": {},
     "output_type": "execute_result"
    }
   ],
   "source": [
    "adata_merged.obs"
   ]
  },
  {
   "cell_type": "code",
   "execution_count": 11,
   "id": "883f72bb",
   "metadata": {},
   "outputs": [
    {
     "data": {
      "text/plain": [
       "batch\n",
       "2    15157\n",
       "3    12417\n",
       "1     5074\n",
       "0     4732\n",
       "Name: count, dtype: int64"
      ]
     },
     "execution_count": 11,
     "metadata": {},
     "output_type": "execute_result"
    }
   ],
   "source": [
    "adata_merged.obs[\"batch\"].value_counts()"
   ]
  },
  {
   "cell_type": "code",
   "execution_count": 12,
   "id": "33704fdb",
   "metadata": {},
   "outputs": [],
   "source": [
    "adata_merged.write_h5ad(\n",
    "    H5AD_CONCAT,\n",
    "    compression=hdf5plugin.FILTERS[\"zstd\"],\n",
    "    compression_opts=hdf5plugin.Zstd(clevel=5).filter_options\n",
    ")"
   ]
  },
  {
   "cell_type": "code",
   "execution_count": null,
   "id": "6640e927",
   "metadata": {},
   "outputs": [],
   "source": []
  }
 ],
 "metadata": {
  "kernelspec": {
   "display_name": ".venv",
   "language": "python",
   "name": "python3"
  },
  "language_info": {
   "codemirror_mode": {
    "name": "ipython",
    "version": 3
   },
   "file_extension": ".py",
   "mimetype": "text/x-python",
   "name": "python",
   "nbconvert_exporter": "python",
   "pygments_lexer": "ipython3",
   "version": "3.10.15"
  }
 },
 "nbformat": 4,
 "nbformat_minor": 5
}
