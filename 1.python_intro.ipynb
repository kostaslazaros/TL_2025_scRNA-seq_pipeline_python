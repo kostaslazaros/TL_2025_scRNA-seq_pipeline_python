{
 "cells": [
  {
   "cell_type": "markdown",
   "metadata": {},
   "source": [
    "### Εισαγωγή στην γλώσσα python\n",
    "\n",
    "- Είναι μια open source γλώσσα προγραμματισμού που δημιουργήθηκε από τον Guido Van Rossum.\n",
    "\n",
    "- Πήρε το όνομα της από τον βρετανικό θίασο κωμωδίας Monty Pythons.\n",
    "\n",
    "- Eίναι interpreter-based.\n"
   ]
  },
  {
   "cell_type": "markdown",
   "metadata": {},
   "source": [
    "### 1. Ανάθεση μεταβλητών\n",
    "- Για την ανάθεση μεταβλητών αρκεί η προσθήκη του τελεστή ανάθεση <code> = </code>  μετά από το όνομα της μεταβλητής.\n",
    "- Στη συνέχεια προσθέτουμε μια τιμή.\n",
    "- Δεν χρειάζεται να δηλωθεί ρητά ο τύπος των δεδομένων που θα περιέχει η μεταβλητή."
   ]
  },
  {
   "cell_type": "code",
   "execution_count": 1,
   "metadata": {},
   "outputs": [],
   "source": [
    "number = 0\n",
    "# number"
   ]
  },
  {
   "cell_type": "code",
   "execution_count": 2,
   "metadata": {},
   "outputs": [
    {
     "data": {
      "text/plain": [
       "0"
      ]
     },
     "execution_count": 2,
     "metadata": {},
     "output_type": "execute_result"
    }
   ],
   "source": [
    "number"
   ]
  },
  {
   "cell_type": "markdown",
   "metadata": {},
   "source": [
    "### 2. Κλήση συναρτήσεων\n",
    "- Η python περιέχει μια μεγάλη γκάμα από built-in συναρτήσεις (functions) για εύκολη και αποδοτική συγγραφή προγραμμάτων.\n",
    "- Π.χ: <code>print()</code> είναι η πιο απλή συνάρτηση της python. Καλείται ως εξής:"
   ]
  },
  {
   "cell_type": "code",
   "execution_count": 3,
   "metadata": {},
   "outputs": [
    {
     "name": "stdout",
     "output_type": "stream",
     "text": [
      "0 Hello there\n"
     ]
    }
   ],
   "source": [
    "#print(number)\n",
    "print(number, \"Hello there\")"
   ]
  },
  {
   "cell_type": "markdown",
   "metadata": {},
   "source": [
    "- Σε περίπτωση που θέλουμε να χρησιμοποιήσουμε μια συνάρτηση αλλά δεν ξέρουμε πως ακριβώς λειτουργεί, μπορούμε να κάνουμε 2 ενέργειες:\n",
    "    1) Να googlάρουμε.\n",
    "    2) Nα χρησιμοποιήσουμε την συνάρτηση <code>help()</code> η οποία επιστρέφει χρήσιμες πληροφορίες σχετικά με το αντικείμενο το οποίο περιέχεται μέσα στην παρένθεση."
   ]
  },
  {
   "cell_type": "code",
   "execution_count": 4,
   "metadata": {},
   "outputs": [
    {
     "name": "stdout",
     "output_type": "stream",
     "text": [
      "Help on built-in function round in module builtins:\n",
      "\n",
      "round(number, ndigits=None)\n",
      "    Round a number to a given precision in decimal digits.\n",
      "    \n",
      "    The return value is an integer if ndigits is omitted or None.  Otherwise\n",
      "    the return value has the same type as the number.  ndigits may be negative.\n",
      "\n"
     ]
    }
   ],
   "source": [
    "help(round)"
   ]
  },
  {
   "cell_type": "code",
   "execution_count": 5,
   "metadata": {},
   "outputs": [
    {
     "name": "stdout",
     "output_type": "stream",
     "text": [
      "Help on int object:\n",
      "\n",
      "class int(object)\n",
      " |  int([x]) -> integer\n",
      " |  int(x, base=10) -> integer\n",
      " |  \n",
      " |  Convert a number or string to an integer, or return 0 if no arguments\n",
      " |  are given.  If x is a number, return x.__int__().  For floating point\n",
      " |  numbers, this truncates towards zero.\n",
      " |  \n",
      " |  If x is not a number or if base is given, then x must be a string,\n",
      " |  bytes, or bytearray instance representing an integer literal in the\n",
      " |  given base.  The literal can be preceded by '+' or '-' and be surrounded\n",
      " |  by whitespace.  The base defaults to 10.  Valid bases are 0 and 2-36.\n",
      " |  Base 0 means to interpret the base from the string as an integer literal.\n",
      " |  >>> int('0b100', base=0)\n",
      " |  4\n",
      " |  \n",
      " |  Built-in subclasses:\n",
      " |      bool\n",
      " |  \n",
      " |  Methods defined here:\n",
      " |  \n",
      " |  __abs__(self, /)\n",
      " |      abs(self)\n",
      " |  \n",
      " |  __add__(self, value, /)\n",
      " |      Return self+value.\n",
      " |  \n",
      " |  __and__(self, value, /)\n",
      " |      Return self&value.\n",
      " |  \n",
      " |  __bool__(self, /)\n",
      " |      True if self else False\n",
      " |  \n",
      " |  __ceil__(...)\n",
      " |      Ceiling of an Integral returns itself.\n",
      " |  \n",
      " |  __divmod__(self, value, /)\n",
      " |      Return divmod(self, value).\n",
      " |  \n",
      " |  __eq__(self, value, /)\n",
      " |      Return self==value.\n",
      " |  \n",
      " |  __float__(self, /)\n",
      " |      float(self)\n",
      " |  \n",
      " |  __floor__(...)\n",
      " |      Flooring an Integral returns itself.\n",
      " |  \n",
      " |  __floordiv__(self, value, /)\n",
      " |      Return self//value.\n",
      " |  \n",
      " |  __format__(self, format_spec, /)\n",
      " |      Default object formatter.\n",
      " |  \n",
      " |  __ge__(self, value, /)\n",
      " |      Return self>=value.\n",
      " |  \n",
      " |  __getattribute__(self, name, /)\n",
      " |      Return getattr(self, name).\n",
      " |  \n",
      " |  __getnewargs__(self, /)\n",
      " |  \n",
      " |  __gt__(self, value, /)\n",
      " |      Return self>value.\n",
      " |  \n",
      " |  __hash__(self, /)\n",
      " |      Return hash(self).\n",
      " |  \n",
      " |  __index__(self, /)\n",
      " |      Return self converted to an integer, if self is suitable for use as an index into a list.\n",
      " |  \n",
      " |  __int__(self, /)\n",
      " |      int(self)\n",
      " |  \n",
      " |  __invert__(self, /)\n",
      " |      ~self\n",
      " |  \n",
      " |  __le__(self, value, /)\n",
      " |      Return self<=value.\n",
      " |  \n",
      " |  __lshift__(self, value, /)\n",
      " |      Return self<<value.\n",
      " |  \n",
      " |  __lt__(self, value, /)\n",
      " |      Return self<value.\n",
      " |  \n",
      " |  __mod__(self, value, /)\n",
      " |      Return self%value.\n",
      " |  \n",
      " |  __mul__(self, value, /)\n",
      " |      Return self*value.\n",
      " |  \n",
      " |  __ne__(self, value, /)\n",
      " |      Return self!=value.\n",
      " |  \n",
      " |  __neg__(self, /)\n",
      " |      -self\n",
      " |  \n",
      " |  __or__(self, value, /)\n",
      " |      Return self|value.\n",
      " |  \n",
      " |  __pos__(self, /)\n",
      " |      +self\n",
      " |  \n",
      " |  __pow__(self, value, mod=None, /)\n",
      " |      Return pow(self, value, mod).\n",
      " |  \n",
      " |  __radd__(self, value, /)\n",
      " |      Return value+self.\n",
      " |  \n",
      " |  __rand__(self, value, /)\n",
      " |      Return value&self.\n",
      " |  \n",
      " |  __rdivmod__(self, value, /)\n",
      " |      Return divmod(value, self).\n",
      " |  \n",
      " |  __repr__(self, /)\n",
      " |      Return repr(self).\n",
      " |  \n",
      " |  __rfloordiv__(self, value, /)\n",
      " |      Return value//self.\n",
      " |  \n",
      " |  __rlshift__(self, value, /)\n",
      " |      Return value<<self.\n",
      " |  \n",
      " |  __rmod__(self, value, /)\n",
      " |      Return value%self.\n",
      " |  \n",
      " |  __rmul__(self, value, /)\n",
      " |      Return value*self.\n",
      " |  \n",
      " |  __ror__(self, value, /)\n",
      " |      Return value|self.\n",
      " |  \n",
      " |  __round__(...)\n",
      " |      Rounding an Integral returns itself.\n",
      " |      \n",
      " |      Rounding with an ndigits argument also returns an integer.\n",
      " |  \n",
      " |  __rpow__(self, value, mod=None, /)\n",
      " |      Return pow(value, self, mod).\n",
      " |  \n",
      " |  __rrshift__(self, value, /)\n",
      " |      Return value>>self.\n",
      " |  \n",
      " |  __rshift__(self, value, /)\n",
      " |      Return self>>value.\n",
      " |  \n",
      " |  __rsub__(self, value, /)\n",
      " |      Return value-self.\n",
      " |  \n",
      " |  __rtruediv__(self, value, /)\n",
      " |      Return value/self.\n",
      " |  \n",
      " |  __rxor__(self, value, /)\n",
      " |      Return value^self.\n",
      " |  \n",
      " |  __sizeof__(self, /)\n",
      " |      Returns size in memory, in bytes.\n",
      " |  \n",
      " |  __sub__(self, value, /)\n",
      " |      Return self-value.\n",
      " |  \n",
      " |  __truediv__(self, value, /)\n",
      " |      Return self/value.\n",
      " |  \n",
      " |  __trunc__(...)\n",
      " |      Truncating an Integral returns itself.\n",
      " |  \n",
      " |  __xor__(self, value, /)\n",
      " |      Return self^value.\n",
      " |  \n",
      " |  as_integer_ratio(self, /)\n",
      " |      Return integer ratio.\n",
      " |      \n",
      " |      Return a pair of integers, whose ratio is exactly equal to the original int\n",
      " |      and with a positive denominator.\n",
      " |      \n",
      " |      >>> (10).as_integer_ratio()\n",
      " |      (10, 1)\n",
      " |      >>> (-10).as_integer_ratio()\n",
      " |      (-10, 1)\n",
      " |      >>> (0).as_integer_ratio()\n",
      " |      (0, 1)\n",
      " |  \n",
      " |  bit_count(self, /)\n",
      " |      Number of ones in the binary representation of the absolute value of self.\n",
      " |      \n",
      " |      Also known as the population count.\n",
      " |      \n",
      " |      >>> bin(13)\n",
      " |      '0b1101'\n",
      " |      >>> (13).bit_count()\n",
      " |      3\n",
      " |  \n",
      " |  bit_length(self, /)\n",
      " |      Number of bits necessary to represent self in binary.\n",
      " |      \n",
      " |      >>> bin(37)\n",
      " |      '0b100101'\n",
      " |      >>> (37).bit_length()\n",
      " |      6\n",
      " |  \n",
      " |  conjugate(...)\n",
      " |      Returns self, the complex conjugate of any int.\n",
      " |  \n",
      " |  to_bytes(self, /, length, byteorder, *, signed=False)\n",
      " |      Return an array of bytes representing an integer.\n",
      " |      \n",
      " |      length\n",
      " |        Length of bytes object to use.  An OverflowError is raised if the\n",
      " |        integer is not representable with the given number of bytes.\n",
      " |      byteorder\n",
      " |        The byte order used to represent the integer.  If byteorder is 'big',\n",
      " |        the most significant byte is at the beginning of the byte array.  If\n",
      " |        byteorder is 'little', the most significant byte is at the end of the\n",
      " |        byte array.  To request the native byte order of the host system, use\n",
      " |        `sys.byteorder' as the byte order value.\n",
      " |      signed\n",
      " |        Determines whether two's complement is used to represent the integer.\n",
      " |        If signed is False and a negative integer is given, an OverflowError\n",
      " |        is raised.\n",
      " |  \n",
      " |  ----------------------------------------------------------------------\n",
      " |  Class methods defined here:\n",
      " |  \n",
      " |  from_bytes(bytes, byteorder, *, signed=False) from builtins.type\n",
      " |      Return the integer represented by the given array of bytes.\n",
      " |      \n",
      " |      bytes\n",
      " |        Holds the array of bytes to convert.  The argument must either\n",
      " |        support the buffer protocol or be an iterable object producing bytes.\n",
      " |        Bytes and bytearray are examples of built-in objects that support the\n",
      " |        buffer protocol.\n",
      " |      byteorder\n",
      " |        The byte order used to represent the integer.  If byteorder is 'big',\n",
      " |        the most significant byte is at the beginning of the byte array.  If\n",
      " |        byteorder is 'little', the most significant byte is at the end of the\n",
      " |        byte array.  To request the native byte order of the host system, use\n",
      " |        `sys.byteorder' as the byte order value.\n",
      " |      signed\n",
      " |        Indicates whether two's complement is used to represent the integer.\n",
      " |  \n",
      " |  ----------------------------------------------------------------------\n",
      " |  Static methods defined here:\n",
      " |  \n",
      " |  __new__(*args, **kwargs) from builtins.type\n",
      " |      Create and return a new object.  See help(type) for accurate signature.\n",
      " |  \n",
      " |  ----------------------------------------------------------------------\n",
      " |  Data descriptors defined here:\n",
      " |  \n",
      " |  denominator\n",
      " |      the denominator of a rational number in lowest terms\n",
      " |  \n",
      " |  imag\n",
      " |      the imaginary part of a complex number\n",
      " |  \n",
      " |  numerator\n",
      " |      the numerator of a rational number in lowest terms\n",
      " |  \n",
      " |  real\n",
      " |      the real part of a complex number\n",
      "\n"
     ]
    }
   ],
   "source": [
    "help(round(-2.01))"
   ]
  },
  {
   "cell_type": "markdown",
   "metadata": {},
   "source": [
    "- Η συνάρτηση <code>type()</code> επιστρέφει τον τύπο δεδομένων μιας μεταβλητής ή μιας συνάρτησης"
   ]
  },
  {
   "cell_type": "code",
   "execution_count": 6,
   "metadata": {},
   "outputs": [
    {
     "name": "stdout",
     "output_type": "stream",
     "text": [
      "<class 'builtin_function_or_method'>\n",
      "<class 'int'>\n"
     ]
    }
   ],
   "source": [
    "print(type(round))\n",
    "print(type(number))"
   ]
  },
  {
   "cell_type": "markdown",
   "metadata": {},
   "source": [
    "|  | Data types |\n",
    "| --- | --- |\n",
    "| Text type | str |\n",
    "| Numeric types| int, float, complex|\n",
    "| Sequence types| list, tuple, range|\n",
    "| Mapping type| dict|\n",
    "| Set types| set, frozen set|\n",
    "| Boolean type| bool|\n",
    "| Binary types| bytes, bytearray, memoryview|"
   ]
  },
  {
   "cell_type": "markdown",
   "metadata": {},
   "source": [
    "### 3. Σχόλια και περιγραφή συναρτήσεων\n",
    "- Τα σχόλια μπαίνουν με τον χαρακτήρα <code>#</code> πριν την αρχή του σχολίου που θέλουμε να προσθέσουμε στον κώδικα"
   ]
  },
  {
   "cell_type": "code",
   "execution_count": 7,
   "metadata": {},
   "outputs": [],
   "source": [
    "# This is a comment example\n",
    "number2 = number + 5 # add something to number"
   ]
  },
  {
   "cell_type": "code",
   "execution_count": 8,
   "metadata": {},
   "outputs": [
    {
     "data": {
      "text/plain": [
       "5"
      ]
     },
     "execution_count": 8,
     "metadata": {},
     "output_type": "execute_result"
    }
   ],
   "source": [
    "number2"
   ]
  },
  {
   "cell_type": "markdown",
   "metadata": {},
   "source": [
    "- Μπορούμε να βάλουμε και σχόλια πολλαπλών γραμμών με την εισαγωγή των συμβόλων <code>\"\"\"</code> ή <code>'''</code> στην αρχή και στο τέλος κάποιου κομματιού που θέλουμε να σχολιάσουμε.\n",
    "- Eπίσης με αυτά τα σύμβολα μπορούμε να δημιουργήσουμε docstring.\n",
    "- Επίσης τα χρησιμοποιούμε για να εισαγάγουμε strings σε μεταβλητές."
   ]
  },
  {
   "cell_type": "code",
   "execution_count": 9,
   "metadata": {},
   "outputs": [
    {
     "name": "stdout",
     "output_type": "stream",
     "text": [
      "Here is a multi line string!!!\n",
      "Hello There!!!\n",
      "Why hello there!!!\n",
      "\n"
     ]
    }
   ],
   "source": [
    "\"\"\"\n",
    "This is a multi-line comment!!!\n",
    "Here is the second line!!!\n",
    "Why not a third one?\n",
    "\"\"\"\n",
    "\n",
    "\n",
    "multi_line_str = \"\"\"Here is a multi line string!!!\n",
    "Hello There!!!\n",
    "Why hello there!!!\n",
    "\"\"\"\n",
    "\n",
    "print(multi_line_str)"
   ]
  },
  {
   "cell_type": "markdown",
   "metadata": {},
   "source": [
    "### 4. Αριθμητική στη python\n",
    "\n",
    "- Οι αριθμητικοί τύποι δεδομένων είναι int, float και complex.\n",
    "- Οι βασικές πράξεις που υποστηρίζονται στην python, είναι οι εξής:"
   ]
  },
  {
   "cell_type": "markdown",
   "metadata": {},
   "source": [
    "| Operator  | Name | Description |\n",
    "| --- | --- | ---|\n",
    "| <code>a + b</code> | Addition | Sum of <code>a</code> and <code>b</code>|\n",
    "| <code>a - b</code>| Subtraction|Difference of <code>a</code> and <code>b</code>|\n",
    "| <code>a * b</code>| Multiplication|Product of <code>a</code> and <code>b</code>|\n",
    "| <code>a / b</code>| True division|Quotient of <code>a</code> and <code>b</code>|\n",
    "| <code>a // b</code>| Floor division|Quotient of <code>a</code> and <code>b</code> without fractional parts|\n",
    "| <code>a % b</code>| Modulus|Integer remainder after division of <code>a</code> and <code>b</code>|\n",
    "| <code>a ** b</code>| Exponentiation|<code>a</code> raised to the power of <code>b</code>|\n",
    "| <code>-a</code>|Negation|The negative of <code>a</code>|"
   ]
  },
  {
   "cell_type": "markdown",
   "metadata": {},
   "source": [
    "- Η σειρά των πράξεων στη python έχει ως εξής:\n",
    "Παρενθέσεις, Δυνάμεις, Πολλαπλασιασμοί/Διαιρέσεις, Προσθέσεις/Αφαιρέσεις.\n",
    "- Παραδείγματα πράξεων:\n"
   ]
  },
  {
   "cell_type": "code",
   "execution_count": 10,
   "metadata": {},
   "outputs": [
    {
     "name": "stdout",
     "output_type": "stream",
     "text": [
      "7\n",
      "2.5\n",
      "2\n",
      "1\n"
     ]
    }
   ],
   "source": [
    "print(5 + 2)\n",
    "print(5 / 2)\n",
    "print(5 // 2)\n",
    "print(5 % 2)"
   ]
  },
  {
   "cell_type": "code",
   "execution_count": 11,
   "metadata": {},
   "outputs": [
    {
     "name": "stdout",
     "output_type": "stream",
     "text": [
      "Height in meters = 2.05 ?\n"
     ]
    }
   ],
   "source": [
    "hat_height_cm = 25\n",
    "my_height_cm = 180\n",
    "# How tall am I when wearing my hat?\n",
    "total_height_meters = (hat_height_cm + my_height_cm) / 100 # is this right?\n",
    "# print(\"Height in meters =\", total_height_meters, \"?\")\n",
    "print(f\"Height in meters = {total_height_meters} ?\")"
   ]
  },
  {
   "cell_type": "markdown",
   "metadata": {},
   "source": [
    "- Casting: είναι η διαδικασία αλλαγής τύπου μεταβλητών. \n",
    "- Βοηθάει πολύ όταν έχουμε αλγορίθμους που χρειάζονται συγκεκριμένους τύπους δεδομένων για να λειτουργήσουν σωστά"
   ]
  },
  {
   "cell_type": "code",
   "execution_count": 12,
   "metadata": {},
   "outputs": [
    {
     "name": "stdout",
     "output_type": "stream",
     "text": [
      "10.0\n",
      "3\n",
      "808\n"
     ]
    }
   ],
   "source": [
    "print(float(10))\n",
    "print(int(3.33))\n",
    "# They can even be called on strings!\n",
    "print(int('807') + 1)"
   ]
  },
  {
   "cell_type": "markdown",
   "metadata": {},
   "source": [
    "- Operator overloading: οι τελεστές πράξεων έχουν και άλλες χρήσεις πέρα από αυτές που είναι προφανείς.\n",
    "- Παραδείγματα με τους τελεστές <code>+</code> και <code>*</code> :"
   ]
  },
  {
   "cell_type": "code",
   "execution_count": 13,
   "metadata": {},
   "outputs": [
    {
     "name": "stdout",
     "output_type": "stream",
     "text": [
      "Spam Spam Spam Spam Spam Spam Spam Spam \n",
      "milk, honey, spam, 8\n"
     ]
    }
   ],
   "source": [
    "spam_amount = 8\n",
    "viking_song = \"Spam \" * spam_amount\n",
    "print(viking_song)\n",
    "\n",
    "inrgidient = \"spam\"\n",
    "recipe = \"milk, honey, \"\n",
    "print(recipe + inrgidient + \", \" + str(spam_amount))"
   ]
  },
  {
   "cell_type": "markdown",
   "metadata": {},
   "source": [
    "### 5. Δομές επιλογής και συνθήκες σύγκρισης\n",
    "- Οι δομές επιλογής στη python δεν διαφέρουν σε κάτι σε σχέση με άλλες γλώσσες προγραμματισμού όσον αφορά στο σκεπτικό.\n",
    "- Η διαφορά έχει να κάνει στην σύνταξη.\n",
    "\n",
    "```python\n",
    "if (condition 1):\n",
    "    # python indentation\n",
    "    Block of code\n",
    "elif (condition 2):\n",
    "    # python indentation\n",
    "    Block of code\n",
    "else:\n",
    "    # python indentation\n",
    "    Block of code\n",
    "```"
   ]
  },
  {
   "cell_type": "markdown",
   "metadata": {},
   "source": [
    "- Συγκριτικοί τελεστές:\n",
    "\n",
    "| Operation | Description |\n",
    "| --- | --- |\n",
    "| <code>a == b</code> | <code>a</code> equal to <code>b</code>|\n",
    "| <code>a != b</code>|<code>a</code> not equal to <code>b</code>|\n",
    "| <code>a < b</code>|<code>a</code> less than <code>b</code>|\n",
    "| <code>a > b</code>|<code>a</code> greater than <code>b</code>|\n",
    "| <code>a <= b</code>|<code>a</code> less or equal than <code>b</code>|\n",
    "| <code>a >= b</code>|<code>a</code> greater or equal than <code>b</code>|\n"
   ]
  },
  {
   "cell_type": "code",
   "execution_count": 14,
   "metadata": {},
   "outputs": [
    {
     "name": "stdout",
     "output_type": "stream",
     "text": [
      "Oh! 8 is a nice amount of spam!\n"
     ]
    }
   ],
   "source": [
    "if spam_amount < 8:\n",
    "    print(\"But I don't want ANY spam!\")\n",
    "elif spam_amount == 8:\n",
    "    print(\"Oh! 8 is a nice amount of spam!\")\n",
    "else:\n",
    "    print(\"Why do we have \" + str(spam_amount) + \" spam?\")"
   ]
  },
  {
   "cell_type": "markdown",
   "metadata": {},
   "source": [
    "- Οι συγκρίσεις μπορεί να γίνουν είτε μεταξύ αριθμητικών μεταβλητών είτε μεταξύ string. "
   ]
  },
  {
   "cell_type": "code",
   "execution_count": 15,
   "metadata": {},
   "outputs": [
    {
     "name": "stdout",
     "output_type": "stream",
     "text": [
      "True\n",
      "False\n"
     ]
    }
   ],
   "source": [
    "print(\"a\" <= \"d\")\n",
    "print(\"a\" > \"d\")"
   ]
  },
  {
   "cell_type": "code",
   "execution_count": 16,
   "metadata": {},
   "outputs": [
    {
     "name": "stdout",
     "output_type": "stream",
     "text": [
      "True\n",
      "False\n",
      "True\n",
      "False\n",
      "False\n"
     ]
    }
   ],
   "source": [
    "print(bool(1)) # all numbers are treated as true, except 0\n",
    "print(bool(0))\n",
    "print(bool(\"spam\")) # all strings are treated as true, except the empty string \"\"\n",
    "print(bool(\"\"))\n",
    "print(bool(None))"
   ]
  },
  {
   "cell_type": "code",
   "execution_count": 17,
   "metadata": {},
   "outputs": [
    {
     "name": "stdout",
     "output_type": "stream",
     "text": [
      "False\n",
      "5.0\n"
     ]
    }
   ],
   "source": [
    "b = None\n",
    "a = 2\n",
    "if a == 0:\n",
    "    b = None\n",
    "else:\n",
    "    b = 10/a\n",
    "\n",
    "print(bool([]))\n",
    "print(b)"
   ]
  },
  {
   "cell_type": "markdown",
   "metadata": {},
   "source": [
    "### 6. Lists, Sets, Tuples και Dictionaries\n",
    "\n",
    "- Πρόκειται για τις 4 βασικές μορφές πίνακα που υπάρχουν στη Python.\n",
    "- Κάθε μια από αυτές τις δομές έχει τα δικά της χαρακτηριστικά."
   ]
  },
  {
   "cell_type": "markdown",
   "metadata": {},
   "source": [
    "##### Lists\n",
    "- Είναι η πιο συνηθισμένη δομή πινάκων στη Python.\n",
    "- Πρόκειται για έναν απλό μονοδιάστατο πίνακα με index που ξεκινάει από το 0.\n",
    "- Οι λίστες έχουν συγκεκριμένη ταξινόμηση, μπορούν να αλλάξουν τα στοιχεία τους και επιτρέπουν την ύπαρξη του ίδιου στοιχείου πολλές φορές.\n",
    "- Το μέγεθος μιας λίστας εξαρτάται από τον αριθμό στοιχείων που περιέχει.\n",
    "- Το είδος των στοιχείων μιας λίστας δεν είναι απαραίτητο να είναι κάθε φορά το ίδιο (μπορεί μια λίστα να έχει και integers και strings, κλπ).\n",
    "- Για να δημιουργήσουμε μια λίστα πρέπει να τοποθετήσουμε τα στοιχεία που θέλουμε να έχει μέσα σε <code>**square brackets** []</code> και να διαχωριστούν με κόμματα μεταξύ τους."
   ]
  },
  {
   "cell_type": "code",
   "execution_count": 18,
   "metadata": {},
   "outputs": [
    {
     "name": "stdout",
     "output_type": "stream",
     "text": [
      "list: ['spam', 0, [1, 2, 8], 4.56]\n",
      "spam\n",
      "[1, 2, 8]\n",
      "8\n"
     ]
    }
   ],
   "source": [
    "kitchen = [\"spam\", 0, [1, 2, spam_amount], 4.56]\n",
    "\n",
    "print(\"list:\", kitchen)\n",
    "print(kitchen[0])\n",
    "print(kitchen[2])\n",
    "print(kitchen[2][2])"
   ]
  },
  {
   "cell_type": "code",
   "execution_count": 19,
   "metadata": {},
   "outputs": [
    {
     "name": "stdout",
     "output_type": "stream",
     "text": [
      "[]\n",
      "4\n",
      "3\n"
     ]
    }
   ],
   "source": [
    "empty_list = []\n",
    "print(empty_list)\n",
    "print(len(kitchen))    # list size\n",
    "print(len(kitchen[2])) # size of the list within the list "
   ]
  },
  {
   "cell_type": "code",
   "execution_count": 20,
   "metadata": {},
   "outputs": [
    {
     "name": "stdout",
     "output_type": "stream",
     "text": [
      "[12, 0, [1, 2, 8], 4.56]\n",
      "12\n"
     ]
    }
   ],
   "source": [
    "kitchen[0] = 12\n",
    "print(kitchen)\n",
    "print(kitchen[0])"
   ]
  },
  {
   "cell_type": "code",
   "execution_count": 21,
   "metadata": {},
   "outputs": [
    {
     "name": "stdout",
     "output_type": "stream",
     "text": [
      "[12, 0, [1, 2, 8], 4.56, 'more_spam']\n",
      "more_spam\n"
     ]
    }
   ],
   "source": [
    "kitchen.append(\"more_spam\")\n",
    "print(kitchen)\n",
    "print(kitchen[-1]) # the list iteration can be done backwords\n"
   ]
  },
  {
   "cell_type": "code",
   "execution_count": 22,
   "metadata": {},
   "outputs": [
    {
     "name": "stdout",
     "output_type": "stream",
     "text": [
      "[1, 2, 8]\n"
     ]
    }
   ],
   "source": [
    "print(kitchen[-3])"
   ]
  },
  {
   "cell_type": "code",
   "execution_count": 23,
   "metadata": {},
   "outputs": [
    {
     "name": "stdout",
     "output_type": "stream",
     "text": [
      "[12, 0, [1, 2, 8], 4.56, 'more_spam']\n",
      "[12, 0, [1, 2, 8, 10], 4.56, 'more_spam']\n"
     ]
    }
   ],
   "source": [
    "print(kitchen)\n",
    "kitchen[2] = kitchen[2] + [10]\n",
    "print(kitchen)"
   ]
  },
  {
   "cell_type": "code",
   "execution_count": 24,
   "metadata": {},
   "outputs": [
    {
     "name": "stdout",
     "output_type": "stream",
     "text": [
      "[12, 'eggs', 0, [1, 2, 8, 10], 4.56, 'more_spam']\n"
     ]
    }
   ],
   "source": [
    "kitchen.insert(1, \"eggs\")\n",
    "print(kitchen)"
   ]
  },
  {
   "cell_type": "code",
   "execution_count": 25,
   "metadata": {},
   "outputs": [
    {
     "name": "stdout",
     "output_type": "stream",
     "text": [
      "['sofa', 'chair']\n"
     ]
    }
   ],
   "source": [
    "livining_room=[\"sofa\"]\n",
    "livining_room.append(\"chair\")\n",
    "print(livining_room)"
   ]
  },
  {
   "cell_type": "code",
   "execution_count": 26,
   "metadata": {},
   "outputs": [
    {
     "name": "stdout",
     "output_type": "stream",
     "text": [
      "[12, 0, [1, 2, 8, 10], 4.56]\n"
     ]
    }
   ],
   "source": [
    "kitchen.remove(\"more_spam\")\n",
    "kitchen.pop(1)\n",
    "print(kitchen)"
   ]
  },
  {
   "cell_type": "code",
   "execution_count": 27,
   "metadata": {},
   "outputs": [
    {
     "name": "stdout",
     "output_type": "stream",
     "text": [
      "5\n",
      "10\n",
      "[[1, 2, 3], [4, 10, 6]]\n"
     ]
    }
   ],
   "source": [
    "matrix = [\n",
    "         [1,2,3],\n",
    "         [4,5,6]\n",
    "         ]\n",
    "\n",
    "print(matrix[1][-2]) \n",
    "\n",
    "# pass-by-reference error\n",
    "matrix_2 = matrix\n",
    "matrix_2[1][-2] = 10\n",
    "print(matrix[1][-2]) \n",
    "print(matrix)"
   ]
  },
  {
   "cell_type": "code",
   "execution_count": 28,
   "metadata": {},
   "outputs": [
    {
     "name": "stdout",
     "output_type": "stream",
     "text": [
      "5\n",
      "[[1, 2, 3], [4, 5, 6]]\n",
      "[[1, 2, 3], [4, 10, 6]]\n"
     ]
    }
   ],
   "source": [
    "import copy\n",
    "\n",
    "matrix = [\n",
    "    [1, 2, 3],\n",
    "    [4, 5, 6]\n",
    "]\n",
    "\n",
    "# Create a deep copy of 'matrix' so that 'matrix_2' is a completely separate object.\n",
    "matrix_2 = copy.deepcopy(matrix)\n",
    "\n",
    "# Now, modifying 'matrix_2' will not affect 'matrix'.\n",
    "matrix_2[1][-2] = 10\n",
    "\n",
    "print(matrix[1][-2])  # Output will be 5\n",
    "print(matrix)\n",
    "print(matrix_2) "
   ]
  },
  {
   "cell_type": "code",
   "execution_count": 29,
   "metadata": {},
   "outputs": [
    {
     "name": "stdout",
     "output_type": "stream",
     "text": [
      "['D', 'o', ' ', 'y', 'o', 'u', ' ', 'w', 'a', 'n', 't', ' ', 's', 'o', 'm', 'e', ' ', 'm', 'o', 'r', 'e', ' ', 's', 'p', 'a', 'm', '?']\n",
      "27\n",
      "spam?\n",
      "s\n",
      "?\n"
     ]
    }
   ],
   "source": [
    "question = \"Do you want some more spam?\"\n",
    "print(list(\"Do you want some more spam?\"))\n",
    "print(len(question))\n",
    "print(question[22:30])\n",
    "print(question[22])\n",
    "print(question[26])"
   ]
  },
  {
   "cell_type": "code",
   "execution_count": 30,
   "metadata": {},
   "outputs": [
    {
     "name": "stdout",
     "output_type": "stream",
     "text": [
      "[1, 2, 3, 4, 5, 6]\n",
      "[1, 2, 3, 1, 2, 3, 1, 2, 3]\n",
      "True\n",
      "True\n",
      "True\n"
     ]
    }
   ],
   "source": [
    "nums = [1, 2, 3]\n",
    "nums_2 = [4, 5, 6]\n",
    "print(nums + nums_2)\n",
    "print(nums * 3)\n",
    "print(2 in nums)\n",
    "print(5 not in nums)\n",
    "print(not 5 in nums)"
   ]
  },
  {
   "cell_type": "markdown",
   "metadata": {},
   "source": [
    "##### Sets\n",
    "- Είναι ακόμα μια δομή πινάκων της Python\n",
    "- Αντί για <code>**squared brackets**[]</code> χρησιμοποιούμε <code>**curly brackets**{}</code> και διαχωρίζουμε πάλι τα στοιχεία με κόμματα.\n",
    "- Η διαφορά τους σε σχέση με τις λίστες είναι ότι δεν μπορούν να αλλάξουν τα στοιχεία τους.\n",
    "- Δεν επιτρέπουν το ίδιο στοιχείο πάνω από μια φορά.\n",
    "- Τα στοιχεία δεν διατηρούν κάποια συγκεκριμένη σειρά.\n",
    "- Είναι δηλαδή λίστες μοναδικών στοιχείων."
   ]
  },
  {
   "cell_type": "code",
   "execution_count": 31,
   "metadata": {},
   "outputs": [
    {
     "name": "stdout",
     "output_type": "stream",
     "text": [
      "{'bacon', 'sausage', 'spam'}\n",
      "{'bacon', 'sausage', 'spam'}\n"
     ]
    }
   ],
   "source": [
    "pantry = set((\"spam\", \"bacon\", \"sausage\"))\n",
    "print(pantry)\n",
    "pantry = {\"spam\", \"bacon\", \"sausage\"}\n",
    "print(pantry)"
   ]
  },
  {
   "cell_type": "code",
   "execution_count": 32,
   "metadata": {},
   "outputs": [
    {
     "name": "stdout",
     "output_type": "stream",
     "text": [
      "bacon\n",
      "sausage\n",
      "spam\n",
      "\n",
      "True\n"
     ]
    }
   ],
   "source": [
    "for x in pantry:\n",
    "    print(x)\n",
    "print()\n",
    "print(\"bacon\" in pantry)"
   ]
  },
  {
   "cell_type": "code",
   "execution_count": 33,
   "metadata": {},
   "outputs": [
    {
     "name": "stdout",
     "output_type": "stream",
     "text": [
      "{'bacon', 'ham', 'sausage', 'spam'}\n"
     ]
    }
   ],
   "source": [
    "pantry.add(\"ham\")\n",
    "print(pantry)"
   ]
  },
  {
   "cell_type": "code",
   "execution_count": 34,
   "metadata": {},
   "outputs": [
    {
     "name": "stdout",
     "output_type": "stream",
     "text": [
      "{'bacon', 'yogurt', 'milk', 'sausage', 'spam', 'cheese', 'ham'}\n"
     ]
    }
   ],
   "source": [
    "pantry.update([\"milk\", \"cheese\", \"yogurt\"])\n",
    "print(pantry)"
   ]
  },
  {
   "cell_type": "markdown",
   "metadata": {},
   "source": [
    "##### Tuples\n",
    "- Aκόμα μια δομή πινάκων της Python.\n",
    "- Βάζουμε τα στοιχεία που θέλουμε μέσα σε παρενθέσεις και χωρίζουμε με κόμματα.\n",
    "- Τα στοιχεία τους είναι ταξινομημένα με συγκεκριμένη σειρά.\n",
    "- Δεν γίνεται να αλλάξουμε τα στοιχεία τους.\n",
    "- Ένα στοιχείο μπορεί να υπάρχει σε ένα tuple πολλές φορές."
   ]
  },
  {
   "cell_type": "code",
   "execution_count": 35,
   "metadata": {},
   "outputs": [
    {
     "name": "stdout",
     "output_type": "stream",
     "text": [
      "<class 'tuple'>\n",
      "<class 'tuple'>\n",
      "<class 'tuple'>\n",
      "spam\n",
      "beans\n",
      "milk\n"
     ]
    }
   ],
   "source": [
    "recipe = (\"spam\", \"beans\", \"milk\")\n",
    "print(type(recipe))\n",
    "recipe = \"spam\", \"beans\", \"milk\"\n",
    "print(type(recipe))\n",
    "recipe = tuple([\"spam\", \"beans\", \"milk\"])\n",
    "print(type(recipe))\n",
    "\n",
    "(red, green, white) = recipe\n",
    "\n",
    "print(red)\n",
    "print(green)\n",
    "print(white)\n"
   ]
  },
  {
   "cell_type": "code",
   "execution_count": 36,
   "metadata": {},
   "outputs": [
    {
     "name": "stdout",
     "output_type": "stream",
     "text": [
      "('spam', 'beans', 'milk', 'spam', 'beans', 'milk')\n",
      "('spam', 'beans', 'milk', 'pasta', 'tomatos')\n"
     ]
    }
   ],
   "source": [
    "print(recipe * 2)\n",
    "print(recipe + (\"pasta\", \"tomatos\"))"
   ]
  },
  {
   "cell_type": "code",
   "execution_count": 37,
   "metadata": {},
   "outputs": [
    {
     "name": "stdout",
     "output_type": "stream",
     "text": [
      "spam\n",
      "['beans', 'milk', 'cheese']\n",
      "yogurt\n"
     ]
    }
   ],
   "source": [
    "recipe = (\"spam\", \"beans\", \"milk\", \"cheese\", \"yogurt\")\n",
    "(red, *green, white) = recipe\n",
    "\n",
    "print(red)\n",
    "print(green)\n",
    "print(white)"
   ]
  },
  {
   "cell_type": "markdown",
   "metadata": {},
   "source": [
    "##### Dictionaries\n",
    "- Είναι πίνακες της λογικής key-value.\n",
    "- Κάθε θέση του πίνακα παίρνει μια τιμή από τον χρήστη και αντί να ονομάζεται (indexed) αυτόματα από την ίδια την Python, με έναν ακέραιο στο διάστημα [0,∞), το όνομα της μπορεί να είναι και αλφαριθμητικό.\n",
    "- Τα dictionaries, είναι μια από τις πιο ισχυρές δομές που μπορούν να χρησιμοποιηθούν.\n",
    "- Τα στοιχεία τους μπορούν να αλλαχθούν μετά από την δημιουργία τους.\n",
    "- Μια τιμή μπορεί να εμφανίζεται πολλές φορές.\n",
    "- Τα κλειδιά όμως είναι μοναδικά.\n",
    "- Για να δημιουργήσουμε ένα dictionary, περιλαμβάνουμε τα ζευγάρια key-value σε <code>**curly brackets** {}</code> και τα διαχωρίζουμε με κόμμα.\n",
    "- Το ζευγάρι key-value ορίζεται κάνοντας διαχωρισμό του κλειδιού από την τιμή με ένα <code>**colon** :</code> ."
   ]
  },
  {
   "cell_type": "code",
   "execution_count": 38,
   "metadata": {},
   "outputs": [
    {
     "name": "stdout",
     "output_type": "stream",
     "text": [
      "{'noi': 4, 'red': 'spam', 'green': 'beans', 'white': ['milk', 'cheese']}\n",
      "4\n",
      "cheese\n"
     ]
    }
   ],
   "source": [
    "pantry = { \"noi\": 4, \"red\": \"spam\", \"green\": \"beans\", \"white\": [\"milk\", \"cheese\"]}\n",
    "\n",
    "print(pantry)\n",
    "print(pantry[\"noi\"])\n",
    "print(pantry[\"white\"][1])"
   ]
  },
  {
   "cell_type": "code",
   "execution_count": 39,
   "metadata": {},
   "outputs": [
    {
     "name": "stdout",
     "output_type": "stream",
     "text": [
      "dict_keys(['noi', 'red', 'green', 'white'])\n",
      "dict_values([4, 'spam', 'beans', ['milk', 'cheese']])\n",
      "dict_items([('noi', 4), ('red', 'spam'), ('green', 'beans'), ('white', ['milk', 'cheese'])])\n"
     ]
    }
   ],
   "source": [
    "print(pantry.keys())\n",
    "print(pantry.values())\n",
    "print(pantry.items())"
   ]
  },
  {
   "cell_type": "code",
   "execution_count": 40,
   "metadata": {},
   "outputs": [
    {
     "name": "stdout",
     "output_type": "stream",
     "text": [
      "[('noi', 4), ('red', 'spam'), ('green', 'beans'), ('white', ['milk', 'cheese'])]\n",
      "5\n"
     ]
    }
   ],
   "source": [
    "print(list(pantry.items()))\n",
    "print(list(pantry.items())[0][1] +1)"
   ]
  },
  {
   "cell_type": "code",
   "execution_count": 41,
   "metadata": {},
   "outputs": [
    {
     "name": "stdout",
     "output_type": "stream",
     "text": [
      "orange\n",
      "peas\n"
     ]
    }
   ],
   "source": [
    "pantry[\"orange\"] = \"orange\"\n",
    "print(pantry[\"orange\"])\n",
    "\n",
    "pantry[\"green\"] = \"peas\"\n",
    "print(pantry[\"green\"])"
   ]
  },
  {
   "cell_type": "code",
   "execution_count": 42,
   "metadata": {},
   "outputs": [
    {
     "name": "stdout",
     "output_type": "stream",
     "text": [
      "pantry keys: dict_keys(['noi', 'red', 'white', 'orange'])\n",
      "pantry_old keys: dict_keys(['noi', 'red', 'green', 'white', 'orange'])\n"
     ]
    }
   ],
   "source": [
    "# copy the data don't simply reference them!!\n",
    "pantry_old = pantry.copy()\n",
    "\n",
    "pantry.pop(\"green\")\n",
    "print(f\"pantry keys: {pantry.keys()}\")\n",
    "\n",
    "print(f\"pantry_old keys: {pantry_old.keys()}\")"
   ]
  },
  {
   "cell_type": "code",
   "execution_count": 43,
   "metadata": {},
   "outputs": [
    {
     "name": "stdout",
     "output_type": "stream",
     "text": [
      "[{'noi': 4, 'red': 'spam', 'white': ['milk', 'cheese'], 'orange': 'orange'}, {'noi': 4, 'red': 'spam', 'green': 'peas', 'white': ['milk', 'cheese'], 'orange': 'orange'}]\n"
     ]
    }
   ],
   "source": [
    "patntries_list = [pantry, pantry_old]\n",
    "print(patntries_list)"
   ]
  },
  {
   "cell_type": "code",
   "execution_count": 44,
   "metadata": {},
   "outputs": [
    {
     "name": "stdout",
     "output_type": "stream",
     "text": [
      "{'stock_1': {'noi': 4, 'red': 'spam', 'white': ['milk', 'cheese'], 'orange': 'orange'}, 'stock_2': {'noi': 4, 'red': 'spam', 'green': 'peas', 'white': ['milk', 'cheese'], 'orange': 'orange'}}\n",
      "{'noi': 4, 'red': 'spam', 'white': ['milk', 'cheese'], 'orange': 'orange'}\n"
     ]
    }
   ],
   "source": [
    "pantries_dict = {\"stock_1\" : pantry, \"stock_2\" : pantry_old}\n",
    "print(pantries_dict)\n",
    "print(pantries_dict[\"stock_1\"])"
   ]
  },
  {
   "cell_type": "markdown",
   "metadata": {},
   "source": [
    "### 7. While και for δομές επανάληψης\n",
    "\n",
    "\n",
    "##### While\n",
    "\n",
    "- Το while χρησιμοποιείται για την επανάληψη ενός block κώδικα πολλές φορές. Έχει ως εξής:\n",
    "\n",
    "```python\n",
    "while(condition 1):\n",
    "    #python indentation\n",
    "    Block of code\n",
    "```"
   ]
  },
  {
   "cell_type": "code",
   "execution_count": 45,
   "metadata": {},
   "outputs": [
    {
     "name": "stdout",
     "output_type": "stream",
     "text": [
      "1\n",
      "2\n",
      "3\n",
      "4\n",
      "5\n",
      "6\n",
      "7\n",
      "8\n"
     ]
    }
   ],
   "source": [
    "i = 0\n",
    "while i < spam_amount:\n",
    "    i += 1\n",
    "    print(i)"
   ]
  },
  {
   "cell_type": "code",
   "execution_count": 46,
   "metadata": {},
   "outputs": [
    {
     "name": "stdout",
     "output_type": "stream",
     "text": [
      "2\n",
      "4\n",
      "6\n"
     ]
    }
   ],
   "source": [
    "i = 0\n",
    "while i < spam_amount:\n",
    "    i += 1\n",
    "    if i % 2 == 1:\n",
    "        continue\n",
    "    elif i == 8:\n",
    "        break\n",
    "    print(i)"
   ]
  },
  {
   "cell_type": "markdown",
   "metadata": {},
   "source": [
    "##### For\n",
    "\n",
    "- Χρησιμοποιείται για την προσπέλαση μιας ακολουθίας.\n",
    "- Η ακολουθία που προσπελαύνεται κάθε φορά από την λούπα for ονομάζεται iterable.\n",
    "- Iterable είναι ένα οποιοδήποτε αντικείμενο στην Python που είναι μπορεί να επιστρέφει τα μέλη του ένα ένα.\n",
    "- Χαρακτιριστικές μέθοδοι αντιμετώπισης των iterables είναι το unpacking και το enumerating. \n",
    "- Iterables είναι οι Lists, τα Sets, τα Tuples και τα Dictionaries.\n",
    "\n",
    "```python\n",
    "for (variable) in iterable:\n",
    "    # python indentation\n",
    "    Block of code\n",
    "```\n"
   ]
  },
  {
   "cell_type": "code",
   "execution_count": 47,
   "metadata": {},
   "outputs": [
    {
     "name": "stdout",
     "output_type": "stream",
     "text": [
      "('spam', 'beans', 'milk', 'cheese', 'yogurt')\n"
     ]
    }
   ],
   "source": [
    "print(recipe)"
   ]
  },
  {
   "cell_type": "code",
   "execution_count": 48,
   "metadata": {},
   "outputs": [
    {
     "name": "stdout",
     "output_type": "stream",
     "text": [
      "spam!\n",
      "beans!\n",
      "milk!\n",
      "cheese!\n",
      "yogurt!\n"
     ]
    }
   ],
   "source": [
    "for i in recipe:\n",
    "    print(i+\"!\")"
   ]
  },
  {
   "cell_type": "code",
   "execution_count": 49,
   "metadata": {},
   "outputs": [
    {
     "name": "stdout",
     "output_type": "stream",
     "text": [
      "key noi : value 4\n",
      "key red : value spam\n",
      "key green : value peas\n",
      "key white : value ['milk', 'cheese']\n",
      "key orange : value orange\n"
     ]
    }
   ],
   "source": [
    "for k in pantry_old.keys():\n",
    "    print(\"key\", k, \": value\", pantry_old[k])"
   ]
  },
  {
   "cell_type": "code",
   "execution_count": 50,
   "metadata": {},
   "outputs": [
    {
     "name": "stdout",
     "output_type": "stream",
     "text": [
      "key noi : value 4\n",
      "key red : value spam\n",
      "key green : value peas\n",
      "key white : value ['milk', 'cheese']\n",
      "key orange : value orange\n"
     ]
    }
   ],
   "source": [
    "for k in pantry_old:\n",
    "    print(\"key\", k, \": value\", pantry_old[k])"
   ]
  },
  {
   "cell_type": "code",
   "execution_count": 51,
   "metadata": {},
   "outputs": [
    {
     "name": "stdout",
     "output_type": "stream",
     "text": [
      "spam is in 0 position!!\n",
      "beans is in 1 position!!\n",
      "milk is in 2 position!!\n",
      "cheese is in 3 position!!\n",
      "yogurt is in 4 position!!\n"
     ]
    }
   ],
   "source": [
    "for i in enumerate(recipe):\n",
    "    print(i[1], \"is in\", i[0], \"position!!\")"
   ]
  },
  {
   "cell_type": "code",
   "execution_count": 52,
   "metadata": {},
   "outputs": [
    {
     "name": "stdout",
     "output_type": "stream",
     "text": [
      "0\n",
      "1\n",
      "2\n",
      "3\n",
      "4\n"
     ]
    }
   ],
   "source": [
    "for i in range(5): print(i)"
   ]
  },
  {
   "cell_type": "code",
   "execution_count": 53,
   "metadata": {},
   "outputs": [
    {
     "name": "stdout",
     "output_type": "stream",
     "text": [
      "spam\n",
      "beans\n",
      "milk\n",
      "cheese\n",
      "yogurt\n"
     ]
    }
   ],
   "source": [
    "for i in range(len(recipe)): print(recipe[i])\n"
   ]
  },
  {
   "cell_type": "code",
   "execution_count": 54,
   "metadata": {},
   "outputs": [
    {
     "name": "stdout",
     "output_type": "stream",
     "text": [
      "2\n",
      "3\n",
      "4\n"
     ]
    }
   ],
   "source": [
    "for i in range(2,5): print(i)\n"
   ]
  },
  {
   "cell_type": "code",
   "execution_count": 55,
   "metadata": {},
   "outputs": [
    {
     "name": "stdout",
     "output_type": "stream",
     "text": [
      "7\n",
      "5\n",
      "3\n"
     ]
    }
   ],
   "source": [
    "for i in range(7, 2, -2): print(i)\n"
   ]
  },
  {
   "cell_type": "markdown",
   "metadata": {},
   "source": [
    "### 8. Functions\n",
    "- Είναι ένας τρόπος να εκτελούμε ένα συγκεκριμένο block κώδικα όποτε θέλουμε εφόσον όμως το καλέσουμε εμείς έτσι ώστε να εκτελεστεί.\n",
    "\n",
    "```python\n",
    "def function_name(args):\n",
    "    # python indentation\n",
    "    Block of code \n",
    "```"
   ]
  },
  {
   "cell_type": "code",
   "execution_count": 56,
   "metadata": {},
   "outputs": [
    {
     "name": "stdout",
     "output_type": "stream",
     "text": [
      "Hello World!!!\n"
     ]
    }
   ],
   "source": [
    "def helloworld():\n",
    "    print(\"Hello World!!!\")\n",
    "\n",
    "helloworld()"
   ]
  },
  {
   "cell_type": "code",
   "execution_count": 57,
   "metadata": {},
   "outputs": [],
   "source": [
    "def myfunction():\n",
    "    pass"
   ]
  },
  {
   "cell_type": "code",
   "execution_count": 58,
   "metadata": {},
   "outputs": [
    {
     "name": "stdout",
     "output_type": "stream",
     "text": [
      "spam is now cooked!!\n"
     ]
    }
   ],
   "source": [
    "def stove(food):\n",
    "    print(food, \"is now cooked!!\")\n",
    "\n",
    "uncooked = \"spam\"\n",
    "stove(uncooked)\n",
    "\n"
   ]
  },
  {
   "cell_type": "code",
   "execution_count": 59,
   "metadata": {},
   "outputs": [
    {
     "name": "stdout",
     "output_type": "stream",
     "text": [
      "pasta, spam, peas, beans are now cooked!!\n",
      "spam\n"
     ]
    }
   ],
   "source": [
    "def new_stove(*foods):\n",
    "    print(\", \".join(foods), \"are now cooked!!\")\n",
    "    print(foods[1])\n",
    "\n",
    "new_stove(\"pasta\", \"spam\", \"peas\", \"beans\")"
   ]
  },
  {
   "cell_type": "code",
   "execution_count": 60,
   "metadata": {},
   "outputs": [
    {
     "name": "stdout",
     "output_type": "stream",
     "text": [
      "8\n"
     ]
    }
   ],
   "source": [
    "def super_market(stock):\n",
    "    return (stock + 1) * 2\n",
    "\n",
    "spam = 3\n",
    "print(super_market(spam))"
   ]
  },
  {
   "cell_type": "code",
   "execution_count": 61,
   "metadata": {},
   "outputs": [
    {
     "name": "stdout",
     "output_type": "stream",
     "text": [
      "12\n"
     ]
    }
   ],
   "source": [
    "def shelf_market(stock = 5):\n",
    "    if stock >= 8:\n",
    "        return stock\n",
    "    else:\n",
    "        return (stock + 1) * 2\n",
    "\n",
    "print(shelf_market())"
   ]
  },
  {
   "cell_type": "code",
   "execution_count": 62,
   "metadata": {},
   "outputs": [
    {
     "name": "stdout",
     "output_type": "stream",
     "text": [
      "[1, 2, 3, 4]\n",
      "[1, 5, 3, 4]\n"
     ]
    }
   ],
   "source": [
    "def change_element(x):\n",
    "    x[1] = 5\n",
    "\n",
    "nums = [1, 2, 3, 4]\n",
    "print(nums)\n",
    "change_element(nums)\n",
    "print(nums)"
   ]
  },
  {
   "cell_type": "code",
   "execution_count": null,
   "metadata": {},
   "outputs": [],
   "source": []
  },
  {
   "cell_type": "code",
   "execution_count": null,
   "metadata": {},
   "outputs": [],
   "source": []
  },
  {
   "cell_type": "code",
   "execution_count": null,
   "metadata": {},
   "outputs": [],
   "source": []
  }
 ],
 "metadata": {
  "kernelspec": {
   "display_name": ".venv",
   "language": "python",
   "name": "python3"
  },
  "language_info": {
   "codemirror_mode": {
    "name": "ipython",
    "version": 3
   },
   "file_extension": ".py",
   "mimetype": "text/x-python",
   "name": "python",
   "nbconvert_exporter": "python",
   "pygments_lexer": "ipython3",
   "version": "3.10.15"
  }
 },
 "nbformat": 4,
 "nbformat_minor": 4
}
