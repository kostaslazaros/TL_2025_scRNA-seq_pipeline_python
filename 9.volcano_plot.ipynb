{
 "cells": [
  {
   "cell_type": "code",
   "execution_count": null,
   "metadata": {},
   "outputs": [],
   "source": [
    "import pandas as pd\n",
    "import numpy as np\n",
    "import matplotlib.pyplot as plt\n",
    "import seaborn as sns\n",
    "from adjustText import adjust_text"
   ]
  },
  {
   "cell_type": "code",
   "execution_count": null,
   "metadata": {},
   "outputs": [],
   "source": [
    "# Load data\n",
    "df = pd.read_csv(\"./data/deg_data/alzheimer_data_degs.csv\")\n",
    "\n",
    "# Compute -log10 p-values\n",
    "df[\"neg_log10_pval\"] = -np.log10(df[\"pvals\"])"
   ]
  },
  {
   "cell_type": "code",
   "execution_count": null,
   "metadata": {},
   "outputs": [],
   "source": [
    "df"
   ]
  },
  {
   "cell_type": "code",
   "execution_count": null,
   "metadata": {},
   "outputs": [],
   "source": [
    "# Add a column for differential expression classification\n",
    "df[\"diffexpressed\"] = \"NS\"\n",
    "df.loc[(df[\"logfoldchanges\"] > 1) & (df[\"pvals\"] < 0.001), \"diffexpressed\"] = \"UP\"\n",
    "df.loc[(df[\"logfoldchanges\"] < -1) & (df[\"pvals\"] < 0.001), \"diffexpressed\"] = \"DOWN\"\n",
    "\n",
    "# Select top downregulated genes (prioritize by highest significance, then most negative log2FC)\n",
    "top_downregulated = df[df[\"diffexpressed\"] == \"DOWN\"]\n",
    "top_downregulated = top_downregulated.sort_values(by=[\"neg_log10_pval\", \"logfoldchanges\"], ascending=[False, True]).head(20)\n",
    "\n",
    "# Select top upregulated genes (prioritize by highest significance, then most positive log2FC)\n",
    "top_upregulated = df[df[\"diffexpressed\"] == \"UP\"]\n",
    "top_upregulated = top_upregulated.sort_values(by=[\"neg_log10_pval\", \"logfoldchanges\"], ascending=[False, False]).head(81)\n",
    "\n",
    "# Combine top genes\n",
    "top_genes_combined = pd.concat([top_downregulated[\"genes\"], top_upregulated[\"genes\"]])\n",
    "df_annotated = df[df[\"genes\"].isin(top_genes_combined)]"
   ]
  },
  {
   "cell_type": "code",
   "execution_count": null,
   "metadata": {},
   "outputs": [],
   "source": [
    "# Create Volcano plot\n",
    "plt.figure(figsize=(10, 6))\n",
    "sns.scatterplot(data=df, x=\"logfoldchanges\", y=\"neg_log10_pval\", hue=\"diffexpressed\", palette={\"UP\": \"#bb0c00\", \"DOWN\": \"#00AFBB\", \"NS\": \"grey\"}, alpha=0.7, edgecolor=None)\n",
    "\n",
    "# Add threshold lines\n",
    "plt.axhline(y=-np.log10(0.05), color='gray', linestyle='dashed')\n",
    "plt.axvline(x=-1, color='gray', linestyle='dashed')\n",
    "plt.axvline(x=1, color='gray', linestyle='dashed')\n",
    "\n",
    "# Labels and formatting\n",
    "plt.xlim(-9, 9)\n",
    "plt.ylim(0, 320)\n",
    "plt.xlabel(\"log2 Fold Change\", fontsize=14)\n",
    "plt.ylabel(\"-log10 p-value\", fontsize=14)\n",
    "plt.title(\"Volcano of DEGs (Disease vs Control)\", fontsize=16)\n",
    "plt.legend(title=\"Expression\", loc=\"upper right\")\n",
    "\n",
    "plt.show()"
   ]
  },
  {
   "cell_type": "code",
   "execution_count": null,
   "metadata": {},
   "outputs": [],
   "source": []
  }
 ],
 "metadata": {
  "kernelspec": {
   "display_name": ".venv",
   "language": "python",
   "name": "python3"
  },
  "language_info": {
   "codemirror_mode": {
    "name": "ipython",
    "version": 3
   },
   "file_extension": ".py",
   "mimetype": "text/x-python",
   "name": "python",
   "nbconvert_exporter": "python",
   "pygments_lexer": "ipython3",
   "version": "3.10.15"
  }
 },
 "nbformat": 4,
 "nbformat_minor": 2
}
