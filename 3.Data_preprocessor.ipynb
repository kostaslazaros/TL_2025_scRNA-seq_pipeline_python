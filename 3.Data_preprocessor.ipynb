{
 "cells": [
  {
   "cell_type": "markdown",
   "id": "15366c7f",
   "metadata": {},
   "source": [
    "### Προεπεξεργασία δεδομένων"
   ]
  },
  {
   "cell_type": "code",
   "execution_count": 1,
   "id": "d8552867",
   "metadata": {},
   "outputs": [],
   "source": [
    "import adata_preprocessor as ap\n",
    "import hdf5plugin\n",
    "import os"
   ]
  },
  {
   "cell_type": "code",
   "execution_count": 2,
   "id": "97c0053a",
   "metadata": {},
   "outputs": [
    {
     "name": "stdout",
     "output_type": "stream",
     "text": [
      "Processing file: ./data/h5ad\\GSM4483339.h5ad\n",
      "Data shape before preprocessing: (6794880, 33538)\n",
      "Filtering cells with number of genes < 100: (15659, 33538)\n",
      "Filtering genes expressed in < 3 cells: (15659, 24337)\n",
      "Mitochondrial gene percentage calculated and annotated in the prc_mt observation\n",
      "Ribosomal gene percentage calculated and annotated in the prc_rb observation\n",
      "Calculate number of genes with non-zero counts\n",
      "Calculate total number of counts for each cell\n",
      "Filter cells with too few genes detected: (4739, 24337)\n",
      "Filter cells with too many genes detected: (4739, 24337)\n",
      "Filter cells with too many counts detected: (4738, 24337)\n",
      "Filter cells with too many mitochondrial genes expressed: (4732, 24337)\n",
      "Filter cells with too many ribosomal genes expressed: (4732, 24337)\n",
      "Saving file to path\n",
      "Processing file: ./data/h5ad\\GSM4483340.h5ad\n",
      "Data shape before preprocessing: (6794880, 33538)\n",
      "Filtering cells with number of genes < 100: (15057, 33538)\n",
      "Filtering genes expressed in < 3 cells: (15057, 23943)\n",
      "Mitochondrial gene percentage calculated and annotated in the prc_mt observation\n",
      "Ribosomal gene percentage calculated and annotated in the prc_rb observation\n",
      "Calculate number of genes with non-zero counts\n",
      "Calculate total number of counts for each cell\n",
      "Filter cells with too few genes detected: (5082, 23943)\n",
      "Filter cells with too many genes detected: (5082, 23943)\n",
      "Filter cells with too many counts detected: (5080, 23943)\n",
      "Filter cells with too many mitochondrial genes expressed: (5074, 23943)\n",
      "Filter cells with too many ribosomal genes expressed: (5074, 23943)\n",
      "Saving file to path\n",
      "Processing file: ./data/h5ad\\GSM4483366.h5ad\n",
      "Data shape before preprocessing: (6794880, 33538)\n",
      "Filtering cells with number of genes < 100: (82800, 33538)\n",
      "Filtering genes expressed in < 3 cells: (82800, 26297)\n",
      "Mitochondrial gene percentage calculated and annotated in the prc_mt observation\n",
      "Ribosomal gene percentage calculated and annotated in the prc_rb observation\n",
      "Calculate number of genes with non-zero counts\n",
      "Calculate total number of counts for each cell\n",
      "Filter cells with too few genes detected: (15175, 26297)\n",
      "Filter cells with too many genes detected: (15175, 26297)\n",
      "Filter cells with too many counts detected: (15157, 26297)\n",
      "Filter cells with too many mitochondrial genes expressed: (15157, 26297)\n",
      "Filter cells with too many ribosomal genes expressed: (15157, 26297)\n",
      "Saving file to path\n",
      "Processing file: ./data/h5ad\\GSM4483367.h5ad\n",
      "Data shape before preprocessing: (6794880, 33538)\n",
      "Filtering cells with number of genes < 100: (51345, 33538)\n",
      "Filtering genes expressed in < 3 cells: (51345, 26326)\n",
      "Mitochondrial gene percentage calculated and annotated in the prc_mt observation\n",
      "Ribosomal gene percentage calculated and annotated in the prc_rb observation\n",
      "Calculate number of genes with non-zero counts\n",
      "Calculate total number of counts for each cell\n",
      "Filter cells with too few genes detected: (12443, 26326)\n",
      "Filter cells with too many genes detected: (12443, 26326)\n",
      "Filter cells with too many counts detected: (12421, 26326)\n",
      "Filter cells with too many mitochondrial genes expressed: (12417, 26326)\n",
      "Filter cells with too many ribosomal genes expressed: (12417, 26326)\n",
      "Saving file to path\n"
     ]
    }
   ],
   "source": [
    "# List all files in the specified directory\n",
    "directory = \"./data/h5ad\"\n",
    "for file in os.listdir(directory):\n",
    "    if file.endswith(\".h5ad\"):\n",
    "        # Construct the full file path\n",
    "        file_path = os.path.join(directory, file)\n",
    "        # Print the file name\n",
    "        print(f\"Processing file: {file_path}\")\n",
    "        adata_filtered = ap.adata_preprocessor(file_path, n_genes_min=1000, n_genes_max=10000)\n",
    "        print(\"Saving file to path\")\n",
    "        adata_filtered.write_h5ad(\n",
    "            f\"./data/h5ad_filt/filtered_{file}\",\n",
    "            compression=hdf5plugin.FILTERS[\"zstd\"]\n",
    ")"
   ]
  },
  {
   "cell_type": "code",
   "execution_count": null,
   "id": "a6a47b02",
   "metadata": {},
   "outputs": [],
   "source": []
  },
  {
   "cell_type": "code",
   "execution_count": null,
   "id": "a6493251",
   "metadata": {},
   "outputs": [],
   "source": []
  }
 ],
 "metadata": {
  "kernelspec": {
   "display_name": ".venv",
   "language": "python",
   "name": "python3"
  },
  "language_info": {
   "codemirror_mode": {
    "name": "ipython",
    "version": 3
   },
   "file_extension": ".py",
   "mimetype": "text/x-python",
   "name": "python",
   "nbconvert_exporter": "python",
   "pygments_lexer": "ipython3",
   "version": "3.10.15"
  }
 },
 "nbformat": 4,
 "nbformat_minor": 5
}
